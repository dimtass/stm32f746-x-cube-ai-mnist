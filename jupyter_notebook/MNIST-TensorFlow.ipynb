{
 "cells": [
  {
   "cell_type": "markdown",
   "metadata": {},
   "source": [
    "MNIST for Tensorflow-lite\n",
    "----\n",
    "\n",
    "This notebook is part of this [post](https://www.stupid-projects.com/machine-learning-on-embedded-part-3) which is part a series of post about using ML and NN in embedded MCUs. The first post of the series is [here](https://www.stupid-projects.com/machine-learning-on-embedded-part-1)\n",
    "\n",
    "This notebook is just a port of [this](https://github.com/fchollet/deep-learning-with-python-notebooks/blob/master/5.1-introduction-to-convnets.ipynb) notebook from Keras to TF.\n",
    "\n",
    "This notebook is meant to be used to train the MNIST NN and then export the model to TF-Lite for microcontrollers and uploaded to a stm32f746. Later there's a cell in the notebook that you can hand-draw a number on a window and then evaluate the model on both the notebook and the stm32f746 by running the inference.\n",
    "\n"
   ]
  },
  {
   "cell_type": "markdown",
   "metadata": {},
   "source": [
    "## 1. Create the model\n",
    "\n",
    "As it's mentioned before, this is just a port from Keras to TF of [this](https://github.com/fchollet/deep-learning-with-python-notebooks/blob/master/5.1-introduction-to-convnets.ipynb) notebook. For the model training we're going to use `convnets`."
   ]
  },
  {
   "cell_type": "code",
   "execution_count": 19,
   "metadata": {},
   "outputs": [
    {
     "name": "stdout",
     "output_type": "stream",
     "text": [
      "TensorFlow version 1.14.0\n"
     ]
    }
   ],
   "source": [
    "# TensorFlow and tf.keras\n",
    "import tensorflow as tf\n",
    "from tensorflow import keras\n",
    "\n",
    "# Helper libraries\n",
    "import numpy as np\n",
    "import matplotlib.pyplot as plt\n",
    "\n",
    "print(\"TensorFlow version {}\".format(tf.__version__))"
   ]
  },
  {
   "cell_type": "code",
   "execution_count": 20,
   "metadata": {},
   "outputs": [],
   "source": [
    "mnist = tf.keras.datasets.mnist\n",
    "(train_images, train_labels),(test_images, test_labels) = mnist.load_data()"
   ]
  },
  {
   "cell_type": "markdown",
   "metadata": {},
   "source": [
    "#### Convert train and test data\n",
    "Normally when the dataset is loaded the shape is (x, 28, 28). For convnets you need to reshape the data to (x, 28, 28, y), where `x` is the number of images per set and `y` in this case is the number of colors. Normally, of RGB it should be 3, but since the images are grayscale then it's 1."
   ]
  },
  {
   "cell_type": "code",
   "execution_count": 21,
   "metadata": {},
   "outputs": [],
   "source": [
    "train_images = train_images.reshape((60000, 28, 28, 1))\n",
    "train_images = train_images.astype('float32') / 255\n",
    "\n",
    "test_images = test_images.reshape((10000, 28, 28, 1))\n",
    "test_images = test_images.astype('float32') / 255\n",
    "\n",
    "train_labels = tf.keras.utils.to_categorical(train_labels)\n",
    "test_labels = tf.keras.utils.to_categorical(test_labels)"
   ]
  },
  {
   "cell_type": "code",
   "execution_count": 22,
   "metadata": {},
   "outputs": [
    {
     "name": "stdout",
     "output_type": "stream",
     "text": [
      "Data type: <class 'numpy.ndarray'>\n",
      "Dataset shape: (60000, 28, 28, 1)\n"
     ]
    }
   ],
   "source": [
    "print(\"Data type:\", type(train_images))\n",
    "print(\"Dataset shape:\", (train_images.shape))"
   ]
  },
  {
   "cell_type": "code",
   "execution_count": 23,
   "metadata": {},
   "outputs": [
    {
     "name": "stdout",
     "output_type": "stream",
     "text": [
      "Labels: 60000\n",
      "Possible values: [0. 1.]\n"
     ]
    }
   ],
   "source": [
    "print(\"Labels:\", len(train_labels))\n",
    "print(\"Possible values:\", np.unique(train_labels))"
   ]
  },
  {
   "cell_type": "markdown",
   "metadata": {},
   "source": [
    "#### Print a digit from the dataset\n",
    "Now we just print a digit from the dataset in order to see how it looks like."
   ]
  },
  {
   "cell_type": "code",
   "execution_count": 24,
   "metadata": {},
   "outputs": [],
   "source": [
    "def display_img(img):\n",
    "    img = np.array(img, dtype='float')\n",
    "    pixels = img.reshape((28, 28))\n",
    "    plt.figure()\n",
    "    plt.imshow(pixels, cmap='gray')\n",
    "    plt.colorbar()\n",
    "    plt.grid(False)\n",
    "    plt.xlabel(\"Classification label: {}\".format(train_labels[0]))\n",
    "    plt.show()"
   ]
  },
  {
   "cell_type": "code",
   "execution_count": 25,
   "metadata": {},
   "outputs": [
    {
     "data": {
      "image/png": "[encoded data removed]",
      "text/plain": [
       "<Figure size 432x288 with 2 Axes>"
      ]
     },
     "metadata": {
      "needs_background": "light"
     },
     "output_type": "display_data"
    }
   ],
   "source": [
    "display_img(train_images[0])"
   ]
  },
  {
   "cell_type": "markdown",
   "metadata": {},
   "source": [
    "## 2. Train the model"
   ]
  },
  {
   "cell_type": "code",
   "execution_count": 26,
   "metadata": {},
   "outputs": [],
   "source": [
    "model = tf.keras.models.Sequential([\n",
    "    tf.keras.layers.Conv2D(32, (3, 3), activation=tf.nn.relu, input_shape=(28, 28, 1)),\n",
    "    tf.keras.layers.MaxPooling2D((2, 2)),\n",
    "    tf.keras.layers.Conv2D(64, (3, 3), activation=tf.nn.relu),\n",
    "    tf.keras.layers.MaxPooling2D((2, 2)),\n",
    "    tf.keras.layers.Conv2D(64, (3, 3), activation=tf.nn.relu),\n",
    "    tf.keras.layers.Flatten(),\n",
    "    tf.keras.layers.Dense(64, activation=tf.nn.relu),\n",
    "    tf.keras.layers.Dense(10, activation=tf.nn.softmax)\n",
    "])\n",
    "model.compile(optimizer='rmsprop',\n",
    "              loss='categorical_crossentropy',\n",
    "              metrics=['accuracy'])"
   ]
  },
  {
   "cell_type": "code",
   "execution_count": 27,
   "metadata": {},
   "outputs": [
    {
     "name": "stdout",
     "output_type": "stream",
     "text": [
      "Epoch 1/5\n",
      "60000/60000 [==============================] - 10s 164us/sample - loss: 0.1765 - acc: 0.9445\n",
      "Epoch 2/5\n",
      "60000/60000 [==============================] - 10s 160us/sample - loss: 0.0477 - acc: 0.9855\n",
      "Epoch 3/5\n",
      "60000/60000 [==============================] - 10s 159us/sample - loss: 0.0333 - acc: 0.9894\n",
      "Epoch 4/5\n",
      "60000/60000 [==============================] - 10s 160us/sample - loss: 0.0252 - acc: 0.9925\n",
      "Epoch 5/5\n",
      "60000/60000 [==============================] - 10s 159us/sample - loss: 0.0202 - acc: 0.9937\n"
     ]
    },
    {
     "data": {
      "text/plain": [
       "<tensorflow.python.keras.callbacks.History at 0x7fb418831f60>"
      ]
     },
     "execution_count": 27,
     "metadata": {},
     "output_type": "execute_result"
    }
   ],
   "source": [
    "model.fit(train_images, train_labels, epochs=5, batch_size=64)"
   ]
  },
  {
   "cell_type": "code",
   "execution_count": 28,
   "metadata": {},
   "outputs": [
    {
     "name": "stdout",
     "output_type": "stream",
     "text": [
      "10000/10000 [==============================] - 1s 68us/sample - loss: 0.0494 - acc: 0.9854\n",
      "Test accuracy: 0.9854\n"
     ]
    }
   ],
   "source": [
    "test_loss, test_acc = model.evaluate(test_images, test_labels)\n",
    "print('Test accuracy:', test_acc)"
   ]
  },
  {
   "cell_type": "code",
   "execution_count": 29,
   "metadata": {},
   "outputs": [
    {
     "name": "stdout",
     "output_type": "stream",
     "text": [
      "Model: \"sequential_2\"\n",
      "_________________________________________________________________\n",
      "Layer (type)                 Output Shape              Param #   \n",
      "=================================================================\n",
      "conv2d_6 (Conv2D)            (None, 26, 26, 32)        320       \n",
      "_________________________________________________________________\n",
      "max_pooling2d_4 (MaxPooling2 (None, 13, 13, 32)        0         \n",
      "_________________________________________________________________\n",
      "conv2d_7 (Conv2D)            (None, 11, 11, 64)        18496     \n",
      "_________________________________________________________________\n",
      "max_pooling2d_5 (MaxPooling2 (None, 5, 5, 64)          0         \n",
      "_________________________________________________________________\n",
      "conv2d_8 (Conv2D)            (None, 3, 3, 64)          36928     \n",
      "_________________________________________________________________\n",
      "flatten_2 (Flatten)          (None, 576)               0         \n",
      "_________________________________________________________________\n",
      "dense_4 (Dense)              (None, 64)                36928     \n",
      "_________________________________________________________________\n",
      "dense_5 (Dense)              (None, 10)                650       \n",
      "=================================================================\n",
      "Total params: 93,322\n",
      "Trainable params: 93,322\n",
      "Non-trainable params: 0\n",
      "_________________________________________________________________\n",
      "10000/10000 [==============================] - 1s 70us/sample - loss: 0.0494 - acc: 0.9854\n",
      "Restored model, accuracy: 98.54%\n",
      "Restored model, loss: 0.04936715079693822\n"
     ]
    }
   ],
   "source": [
    "model.summary()\n",
    "loss, acc = model.evaluate(test_images, test_labels)\n",
    "print(\"Restored model, accuracy: {:5.2f}%\".format(100*acc))\n",
    "print(\"Restored model, loss: {}\".format(loss))"
   ]
  },
  {
   "cell_type": "markdown",
   "metadata": {},
   "source": [
    "## 3. Convert the model to tflite\n",
    "\n",
    "Now we need to export the model and save it in a `h5` file. Then we use the `TFLiteConverter` to convert the model to the flatbuffer tflite format.\n",
    "\n",
    "Normally, we should use quantization on the model as it's explained [here](https://www.tensorflow.org/lite/microcontrollers/build_convert#quantization), but for some reason in the current version I'm using (1.14) that doesn't work and when the model is loaded on the stm32f746, then I get this error:\n",
    "\n",
    "```\n",
    "Only float32, int16, int32, int64, uint8, bool, complex64 supported currently\n",
    "```\n",
    "\n",
    "This error comes from the `source/libs/tensorflow/lite/experimental/micro/simple_tensor_allocator.cc` file and the reason is that when the model is converted with `TFLiteConverter`, then the output is set to `kTfLiteInt8`, which means signed integer and that is not yet supported."
   ]
  },
  {
   "cell_type": "code",
   "execution_count": 30,
   "metadata": {},
   "outputs": [],
   "source": [
    "model.save('mnist-tflite.h5')"
   ]
  },
  {
   "cell_type": "markdown",
   "metadata": {},
   "source": [
    "> Note: If you want to add post-quantization during conversion (which doesn't work yet), then you need to uncomment the line in the next code. Finally, the output of the next command is the size of the flatbuffer model in bytes."
   ]
  },
  {
   "cell_type": "code",
   "execution_count": 32,
   "metadata": {
    "scrolled": false
   },
   "outputs": [
    {
     "name": "stdout",
     "output_type": "stream",
     "text": [
      "The size of the converted flatbuffer is: 375740 bytes\n"
     ]
    }
   ],
   "source": [
    "tflite_mnist_model = 'mnist.tflite'\n",
    "converter = tf.lite.TFLiteConverter.from_keras_model_file('mnist-tflite.h5')\n",
    "# converter.optimizations = [tf.lite.Optimize.OPTIMIZE_FOR_SIZE]\n",
    "# converter.optimizations = [tf.lite.Optimize.DEFAULT]\n",
    "tflite_model = converter.convert()\n",
    "flatbuffer_size = open(tflite_mnist_model, \"wb\").write(tflite_model)\n",
    "\n",
    "print('The size of the converted flatbuffer is: %d bytes' % flatbuffer_size)"
   ]
  },
  {
   "cell_type": "markdown",
   "metadata": {},
   "source": [
    "## 4. Create a header file from the tflite model\n",
    "Now that you have your tflite flatbuffer you can convert it to a header file\n",
    "in order to add it to your C++ code you need to run this command in bash in\n",
    "the `jupyter _notebook` folder.\n",
    "\n",
    "```sh\n",
    "xxd -i jupyter_notebook/mnist.tflite > source/src/inc/model_data.h\n",
    "```\n",
    "\n",
    "#### Note:\n",
    "In the `source/src/inc/model_data.h` you need to change this line:\n",
    "```cpp\n",
    "unsigned char jupyter_notebook_mnist_tflite[] = {\n",
    "```\n",
    "to this:\n",
    "```cpp\n",
    "const unsigned char jupyter_notebook_mnist_tflite[] = {\n",
    "```\n",
    "Otherwise it won't fit in the RAM and you'll get this error:\n",
    "```sh\n",
    "stm32f7-mnist-tflite.elf section `.bss' will not fit in region `RAM'\n",
    "```"
   ]
  },
  {
   "cell_type": "markdown",
   "metadata": {},
   "source": [
    "## 5. Load model and interpreter\n",
    "\n",
    "To evaluate the hand-written digit in the notebook then you need to create an interpreter and then feed the image (or array) in the input. You can create that here and use it later in the document."
   ]
  },
  {
   "cell_type": "code",
   "execution_count": 33,
   "metadata": {},
   "outputs": [
    {
     "name": "stdout",
     "output_type": "stream",
     "text": [
      "== Input details ==\n",
      "name: conv2d_6_input\n",
      "shape: [ 1 28 28  1]\n",
      "type: <class 'numpy.float32'>\n",
      "\n",
      "== Output details ==\n",
      "name: dense_5/Softmax\n",
      "shape: [ 1 10]\n",
      "type: <class 'numpy.float32'>\n",
      "\n",
      "DUMP INPUT\n",
      "{'name': 'conv2d_6_input', 'index': 3, 'shape': array([ 1, 28, 28,  1], dtype=int32), 'dtype': <class 'numpy.float32'>, 'quantization': (0.0, 0)}\n",
      "\n",
      "DUMP OUTPUT\n",
      "{'name': 'dense_5/Softmax', 'index': 15, 'shape': array([ 1, 10], dtype=int32), 'dtype': <class 'numpy.float32'>, 'quantization': (0.0, 0)}\n"
     ]
    }
   ],
   "source": [
    "interpreter = tf.lite.Interpreter(model_path=tflite_mnist_model)\n",
    "interpreter.allocate_tensors()\n",
    "\n",
    "print(\"== Input details ==\")\n",
    "print(\"name:\", interpreter.get_input_details()[0]['name'])\n",
    "print(\"shape:\", interpreter.get_input_details()[0]['shape'])\n",
    "print(\"type:\", interpreter.get_input_details()[0]['dtype'])\n",
    "\n",
    "print(\"\\n== Output details ==\")\n",
    "print(\"name:\", interpreter.get_output_details()[0]['name'])\n",
    "print(\"shape:\", interpreter.get_output_details()[0]['shape'])\n",
    "print(\"type:\", interpreter.get_output_details()[0]['dtype'])\n",
    "\n",
    "print(\"\\nDUMP INPUT\")\n",
    "print(interpreter.get_input_details()[0])\n",
    "print(\"\\nDUMP OUTPUT\")\n",
    "print(interpreter.get_output_details()[0])"
   ]
  },
  {
   "cell_type": "markdown",
   "metadata": {},
   "source": [
    "## 5. Evalutate the model\n",
    "\n",
    "In order to make it more interesting, I've wrote a small python that you can draw a digit with your mouse and then ran the prediction function to evaluate the result. For this purpose I'm using tkinter and the PIL library. Therefore you need to install them in your environment.\n",
    "\n",
    "For ubuntu (I'm using conda):\n",
    "```sh\n",
    "sudo apt install python3-tk\n",
    "conda install Pillow\n",
    "```\n",
    "\n",
    "#### How to use:\n",
    "Run the following two cells and this window will show up.\n",
    "\n",
    "![Image](./MnistDigitDraw/digit_draw_1.png)\n",
    "\n",
    "In the left window you can draw any digit with your mouse by clicking in the white area. Just be sure that you don't draw that too fast because then you get dotted lines. Then you can either press one of the following buttons:\n",
    "* `Clear`: clears the input drawing area\n",
    "* `Export`: Converts the draw digit to the MNIST input format and then exports the digit to a file called `digit.txt`. You can use this file in this notebook and evaluate the result.\n",
    "* `Inference`: Converts the digit to the MNIST input format and sends the data to the MCU via the serial port. Then the MCU runs the prediction and returns an array with the output values and the time that spend for the calculation.\n",
    "\n",
    "This is an example (I'm right-handed but I'm the mouse with my left hand, this is why it seems so ugly, lol).\n",
    "\n",
    "![Image](./MnistDigitDraw/digit_draw_2.png)\n",
    "\n",
    "\n",
    "Anyway, try yourself by running the next two cells.\n",
    "\n",
    "> Warning: If you proceed with the export function and local evaluation, then you need first to terminate the tkinter window, because the notebook is not able to run 2 cells at the same time. Therefore, if the window thread is running then no other cell can be run.\n",
    "\n",
    "> Note: Be carefull that if you do any changes in any python class or script that is already loaded from the jupyter notebook kernel, then you need to restart the kernel (File menu: Kernel-> Restart). Otherwise the previous loaded class will be used!"
   ]
  },
  {
   "cell_type": "code",
   "execution_count": 10,
   "metadata": {},
   "outputs": [],
   "source": [
    "from matplotlib import pyplot as plt\n",
    "from tkinter import *\n",
    "from MnistDigitDraw.MnistDigitDraw import MnistDigitDraw\n",
    "import numpy as np"
   ]
  },
  {
   "cell_type": "markdown",
   "metadata": {},
   "source": [
    "You can run the followinf cell how many times you like in order to draw a new digit every time. When you do, then press the `Inference` button, then the `Export` and then close the window to proceed."
   ]
  },
  {
   "cell_type": "code",
   "execution_count": null,
   "metadata": {},
   "outputs": [],
   "source": [
    "# Open the TK window to draw the digit and save it in a file\n",
    "root = Tk()\n",
    "root.title(\"MNIST digit draw\")\n",
    "d = MnistDigitDraw(root, 250, 250)\n",
    "d.start()\n",
    "root.mainloop()"
   ]
  },
  {
   "cell_type": "code",
   "execution_count": 11,
   "metadata": {},
   "outputs": [
    {
     "data": {
      "text/plain": [
       "(1, 28, 28, 1)"
      ]
     },
     "execution_count": 11,
     "metadata": {},
     "output_type": "execute_result"
    }
   ],
   "source": [
    "# Load digit from the file that created above\n",
    "digit = np.loadtxt('digit.txt')\n",
    "# Reshape\n",
    "loaded_digit = digit.reshape(28,28)\n",
    "loaded_digit = np.expand_dims(loaded_digit, axis=0)\n",
    "loaded_digit = np.expand_dims(loaded_digit, axis=3)\n",
    "loaded_digit.shape"
   ]
  },
  {
   "cell_type": "markdown",
   "metadata": {},
   "source": [
    "## 6. Load the digit that you drew"
   ]
  },
  {
   "cell_type": "code",
   "execution_count": 12,
   "metadata": {},
   "outputs": [
    {
     "data": {
      "image/png": "[encoded data removed]",
      "text/plain": [
       "<Figure size 432x288 with 2 Axes>"
      ]
     },
     "metadata": {
      "needs_background": "light"
     },
     "output_type": "display_data"
    }
   ],
   "source": [
    "display_img(loaded_digit)"
   ]
  },
  {
   "cell_type": "markdown",
   "metadata": {},
   "source": [
    "## 8. Evaluate hand-written digit on the notebook\n",
    "\n",
    "In case you wnt to test your hand-written digit here then run the following cells. The next cells will load the `digit.txt` file which was exported in the previous step.\n",
    "\n",
    "The imported digit share is (768,). If you just open the file in a text editor (or cat the file) you'll see that each pixel value is one line. Therefore, after loading the digit then you need to convert from `(768,)` to `(1, 28, 28, 1)`, which is the format that the model prediction function support. To do that you need first to reshape the array to `(28, 28)` and then add two additional dimension in the tensor, one dimension in the beginning and one in the end. Those don't need to have a value, the first dimension is used as an index and the last as the prediction result, but it this case we don't care for any of them."
   ]
  },
  {
   "cell_type": "code",
   "execution_count": 34,
   "metadata": {},
   "outputs": [
    {
     "name": "stdout",
     "output_type": "stream",
     "text": [
      "Prediction results: [[9.0398107e-09 1.9950421e-09 9.9999976e-01 1.4301354e-07 2.9515753e-17\n",
      "  8.2455206e-12 2.3692194e-14 9.7575132e-08 1.5781609e-08 8.5826843e-13]]\n",
      "Predicted value: 2\n"
     ]
    }
   ],
   "source": [
    "loaded_digit = loaded_digit.astype('float32')\n",
    "input_details = interpreter.get_input_details()\n",
    "interpreter.set_tensor(input_details[0]['index'], loaded_digit)\n",
    "\n",
    "interpreter.invoke()\n",
    "\n",
    "output_details = interpreter.get_output_details()\n",
    "output_data = interpreter.get_tensor(output_details[0]['index'])\n",
    "print(\"Prediction results:\", output_data)\n",
    "print(\"Predicted value:\", np.argmax(output_data))"
   ]
  },
  {
   "cell_type": "markdown",
   "metadata": {},
   "source": [
    "From the above result the one which has the larger value is the predicted digit."
   ]
  },
  {
   "cell_type": "markdown",
   "metadata": {},
   "source": [
    "## 9. Evaluate on the STM32F746\n",
    "\n",
    "Now you can convert the digit and upload it to the stm32 for evaluation in the model that is running in the embedded board. See in section 10, how to connect the board to your PC."
   ]
  },
  {
   "cell_type": "code",
   "execution_count": 35,
   "metadata": {},
   "outputs": [],
   "source": [
    "# Import the custom flatbuffer communication module for the STM32\n",
    "from FbComm.FbComm import FbComm"
   ]
  },
  {
   "cell_type": "markdown",
   "metadata": {},
   "source": [
    "### 9.1 Check connection\n",
    "To check the connection between your workstation and the stm32f743 you can run the following command, which will retrieve the version and the CPU frequency."
   ]
  },
  {
   "cell_type": "code",
   "execution_count": 36,
   "metadata": {},
   "outputs": [
    {
     "name": "stdout",
     "output_type": "stream",
     "text": [
      "Comm initialized\n",
      "Requesting stats...\n",
      "Receiving stats...\n",
      "Command: 0\n",
      "Version: 100\n",
      "Freq: 288000000\n"
     ]
    }
   ],
   "source": [
    "# Select the proper com port for your system\n",
    "serial = FbComm(uart = '/dev/ttyUSB1')\n",
    "serial.reqStats()"
   ]
  },
  {
   "cell_type": "markdown",
   "metadata": {},
   "source": [
    "### 9.2 Test hand-draw digit\n",
    "\n",
    "Now you can test the digit you've drawn on the STM32 by running the following cell. Then you can compare the result you got from step #8\n",
    "\n",
    "> Note: This script might take a few seconds to return"
   ]
  },
  {
   "cell_type": "code",
   "execution_count": 37,
   "metadata": {},
   "outputs": [
    {
     "name": "stdout",
     "output_type": "stream",
     "text": [
      "Comm initialized\n",
      "Num of elements: 784\n",
      "Sending image data\n",
      "Receive results...\n",
      "Command: 2\n",
      "Execution time: 57.955898 msec\n",
      "Out[9]: 0.000000\n",
      "Out[8]: 0.000000\n",
      "Out[7]: 0.000000\n",
      "Out[6]: 0.000000\n",
      "Out[5]: 0.000000\n",
      "Out[4]: 0.000000\n",
      "Out[3]: 0.000000\n",
      "Out[2]: 1.000000\n",
      "Out[1]: 0.000000\n",
      "Out[0]: 0.000000\n"
     ]
    }
   ],
   "source": [
    "serial = FbComm(uart = '/dev/ttyUSB1')\n",
    "serial.reqInference(digit)"
   ]
  },
  {
   "cell_type": "markdown",
   "metadata": {},
   "source": [
    "## 10. Export hand-draw digit for use in the source code\n",
    "\n",
    "For testing and development you can export the digit you've drawn in a header file and then compile the code and upload it to the stm32f7. When you do that, then in order to save RAM you need to convert the array to `const`. The following script does that for you, though.\n",
    "\n",
    "> Note: Only run the next cell if you want to override the default digit in the flash."
   ]
  },
  {
   "cell_type": "code",
   "execution_count": 17,
   "metadata": {},
   "outputs": [],
   "source": [
    "bytes = digit.tobytes\n",
    "np.save(\"bytes.txt\", bytes)\n",
    "f= open(\"../source/src/inc/digit.h\",\"w+\")\n",
    "f.write(\"const float digit[] = { \\n\")\n",
    "for d in digit:\n",
    "    f.write(str(d))\n",
    "    f.write(',')\n",
    "f.write('\\n};')\n",
    "f.close()"
   ]
  },
  {
   "cell_type": "markdown",
   "metadata": {},
   "source": [
    "## 11. Build the code and compile\n",
    "\n",
    "Now on your console run these commands to build and flash the project on the stm32f746\n",
    "\n",
    "```sh\n",
    "CLEANBUILD=true USE_HAL_DRIVER=ON SRC=src ./build.sh\n",
    "./flash.sh\n",
    "```\n",
    "\n",
    "> Note: Before you build you need to set the toolchain in your `source/CMakeLists.txt` file. Open the file and uncomment this line:\n",
    "```cmake\n",
    "set(TOOLCHAIN_DIR \"/opt/toolchains/gcc-arm-none-eabi-8-2018-q4-major\")\n",
    "```\n",
    "Then insert the path of your toolchain. You can find the latest toolchain [here](https://developer.arm.com/tools-and-software/open-source-software/developer-tools/gnu-toolchain/gnu-rm/downloads)\n",
    "\n",
    "You can repeat hand-drawing and upload or flash procedure as many times you like."
   ]
  },
  {
   "cell_type": "markdown",
   "metadata": {},
   "source": [
    "## 12. Testing the FbComm module\n",
    "\n",
    "The FbComm.py is a Python module that I've made in order to create a proxy between this notebook and the STM32F7 board in order to use the serial port to send/receive data. Because during development, testing and debuging is not optimal (and actually very slow) to test the communication and the parsing of the flatbuffers by compiliing and uploading code to the board; I've also written a small C++ tool that used TCP sockets and `emulates` the board.\n",
    "\n",
    "The `FbComm` class in the `FbComm.py` supports both a serial and a TCP connection. Therefore, you can use your PC to develop the C++ code for develop the serialization and de-serialization with flatbuffers. You can do that by using the `jupyter_notebook/FbComm/test_cpp_app/fb_comm_test.cpp` and `jupyter_notebook/FbComm/FbComm.py` with the TCP connection.\n",
    "\n",
    "For example, this is how to use `FbComm` with TCP:\n",
    "\n",
    "```py\n",
    "com = FbComm(ip='127.0.0.1', port='32001')\n",
    "com.reqStats()\n",
    "com.reqInference(digit)\n",
    "```\n",
    "\n",
    "And this is for the UART/Serial port:\n",
    "```py\n",
    "com = FbComm(uart='/dev/ttyUSB0')\n",
    "com.reqStats()\n",
    "com.reqInference(digit)\n",
    "```\n",
    "\n",
    "If you run this outside from the notepad then you need first to save a digit from the notepad and then load the digit from the python code. Like this:"
   ]
  },
  {
   "cell_type": "code",
   "execution_count": null,
   "metadata": {},
   "outputs": [],
   "source": [
    "# This will save the digit to 'digit.npy' file.\n",
    "np.save('digit', digit)"
   ]
  },
  {
   "cell_type": "markdown",
   "metadata": {},
   "source": [
    "Now from your script you can load the digit and use FbComm like this:\n",
    "```py\n",
    "digit = np.load('digit.npy')\n",
    "com = FbComm(ip='127.0.0.1', port='32001')\n",
    "com.reqStats()\n",
    "com.reqInference(digit)\n",
    "```"
   ]
  },
  {
   "cell_type": "markdown",
   "metadata": {},
   "source": [
    "## 13. Connecting the board to your PC\n",
    "\n",
    "The STM32F7 firmware supports two UART ports (both @ 115200 bps). Those two have different usage:\n",
    "\n",
    "#### 13.1 `USART6`\n",
    "Debug port that accepts ASCII commands and also prints out debugging messages. The handler for this port is in `main.cpp` in the `dbg_uart_parser()` function and the supported commands for this port are:\n",
    "\n",
    "```CMD=<command id>\\n```\n",
    "where `\\n`, is a newline character and `<command id>` is a number with the following meaning:\n",
    "\n",
    "* `1`: Runs the inference by using the hard-coded digit in `source/src/inc/digit.h` and prints stats with how much time each layer takes. Read #10 on how to change this.\n",
    "\n",
    "Command:\n",
    "```sh\n",
    "CMD=1\n",
    "```\n",
    "Response:\n",
    "```sh\n",
    "Received: CMD=2␍\n",
    "\n",
    "Running inference...\n",
    "DEPTHWISE_CONV_2D: 243 msec\n",
    "\n",
    "MAX_POOL_2D: 23 msec\n",
    "\n",
    "CONV_2D: 2347 msec\n",
    "\n",
    "MAX_POOL_2D: 7 msec\n",
    "\n",
    "CONV_2D: 348 msec\n",
    "\n",
    "FULLY_CONNECTED: 6 msec\n",
    "\n",
    "FULLY_CONNECTED: 0 msec\n",
    "\n",
    "SOFTMAX: 0 msec\n",
    "\n",
    "Done in 2990 msec...\n",
    "Out[0]: 0.000000\n",
    "Out[1]: 0.000000\n",
    "Out[2]: 0.000000\n",
    "Out[3]: 0.000000\n",
    "Out[4]: 0.000000\n",
    "Out[5]: 1.000000\n",
    "Out[6]: 0.000000\n",
    "Out[7]: 0.000000\n",
    "Out[8]: 0.000000\n",
    "Out[9]: 0.000000\n",
    "Testing mode: 2\n",
    "```\n",
    "\n",
    "> Note: You can expand the supported commands in `main.cpp::dbg_uart_parser()`.\n",
    "\n",
    "#### 13.2 `UART7`\n",
    "\n",
    "This is the flatbuffer uart port which is used for the communication between this notepad and the STM32F7.\n",
    "\n",
    "#### 13.3 Connections\n",
    "\n",
    "The [STM32F746G-DISCO](https://www.st.com/en/evaluation-tools/32f746gdiscovery.html#overview) has an Arduino UNO-like connector. This connector has access to two UART ports (USART6 & UART7) and there you can connect a TTL-level USB-to-serial module (the pins seem to be 5V tolerant).\n",
    "\n",
    "PORT | Connector PIN\n",
    "-|-\n",
    "USART6-RX | D0\n",
    "USART6-TX | D1\n",
    "UART7-TX | A4\n",
    "UART7-RX | A5"
   ]
  },
  {
   "cell_type": "code",
   "execution_count": null,
   "metadata": {},
   "outputs": [],
   "source": []
  }
 ],
 "metadata": {
  "kernelspec": {
   "display_name": "Python 3",
   "language": "python",
   "name": "python3"
  },
  "language_info": {
   "codemirror_mode": {
    "name": "ipython",
    "version": 3
   },
   "file_extension": ".py",
   "mimetype": "text/x-python",
   "name": "python",
   "nbconvert_exporter": "python",
   "pygments_lexer": "ipython3",
   "version": "3.7.3"
  }
 },
 "nbformat": 4,
 "nbformat_minor": 2
}
